{
 "cells": [
  {
   "cell_type": "markdown",
   "metadata": {},
   "source": [
    "<img src=\"img/logo.png\" width=400>\n",
    "\n",
    "\n"
   ]
  },
  {
   "cell_type": "markdown",
   "metadata": {},
   "source": [
    "# DESHIMA 2.0 sensitivity calculator (beta)\n",
    "\n",
    "- The script below calculates the minimum detectable line flux (MDLF) of DESHIMA 2.0.\n",
    "- The user can change some parameters related to observation.\n",
    "- After execution, the sensitivity curves for baseline and goal performances can be downloaded as csv files.\n",
    "- The sensitivity is calculated for the baseline and goal requirements; details about he requirements can be found [here](https://deshima.kibe.la/shared/entries/ff96eb1f-ef80-41e2-adf8-178769a72e3f)."
   ]
  },
  {
   "cell_type": "code",
   "execution_count": 1,
   "metadata": {},
   "outputs": [
    {
     "ename": "SyntaxError",
     "evalue": "invalid syntax (desim.py, line 875)",
     "output_type": "error",
     "traceback": [
      "Traceback \u001b[0;36m(most recent call last)\u001b[0m:\n",
      "  File \u001b[1;32m\"/Users/akira/miniconda3/envs/py36/lib/python3.6/site-packages/IPython/core/interactiveshell.py\"\u001b[0m, line \u001b[1;32m2862\u001b[0m, in \u001b[1;35mrun_code\u001b[0m\n    exec(code_obj, self.user_global_ns, self.user_ns)\n",
      "\u001b[0;36m  File \u001b[0;32m\"<ipython-input-1-c5d2bf0a5a5c>\"\u001b[0;36m, line \u001b[0;32m5\u001b[0;36m, in \u001b[0;35m<module>\u001b[0;36m\u001b[0m\n\u001b[0;31m    import desim as dsm\u001b[0m\n",
      "\u001b[0;36m  File \u001b[0;32m\"/Users/akira/desim/desim.py\"\u001b[0;36m, line \u001b[0;32m875\u001b[0m\n\u001b[0;31m    'EL':EL.,\u001b[0m\n\u001b[0m            ^\u001b[0m\n\u001b[0;31mSyntaxError\u001b[0m\u001b[0;31m:\u001b[0m invalid syntax\n"
     ]
    }
   ],
   "source": [
    "# To execute, select this cell and type \"Shift+Enter\"\n",
    "# The download link for the CSV file will appear below this cell.\n",
    "\n",
    "%matplotlib inline\n",
    "import desim as dsm\n",
    "\n",
    "dsm.deshima_sensitivity_simple(\n",
    "        pwv = 0.5,      # Precipitable Water Vapor in mm\n",
    "        EL = 60.,       # Elevation angle in degrees\n",
    "        snr = 100.,       # Target S/N of the detection\n",
    "        obs_hours = 8.  # Observation time in hours, including ON-OFF and calibration overhead\n",
    "        )"
   ]
  },
  {
   "cell_type": "code",
   "execution_count": null,
   "metadata": {},
   "outputs": [],
   "source": []
  }
 ],
 "metadata": {
  "kernelspec": {
   "display_name": "Python 3",
   "language": "python",
   "name": "python3"
  },
  "language_info": {
   "codemirror_mode": {
    "name": "ipython",
    "version": 3
   },
   "file_extension": ".py",
   "mimetype": "text/x-python",
   "name": "python",
   "nbconvert_exporter": "python",
   "pygments_lexer": "ipython3",
   "version": "3.6.8"
  },
  "toc-showcode": false,
  "toc-showmarkdowntxt": false
 },
 "nbformat": 4,
 "nbformat_minor": 2
}
